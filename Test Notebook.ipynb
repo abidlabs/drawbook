{
 "cells": [
  {
   "cell_type": "code",
   "execution_count": 1,
   "id": "6eb14615-5dc3-47a8-9a9b-40b28c56e1b3",
   "metadata": {},
   "outputs": [
    {
     "name": "stdout",
     "output_type": "stream",
     "text": [
      "Book exported to: /var/folders/kf/ll6fqkys7_s05x4tvb546mdc0000gn/T/tmpwnm8xt5_.pptx\n"
     ]
    }
   ],
   "source": [
    "from drawbook import Book\n",
    "\n",
    "book = Book(title=\"My First Ramadan\", pages=[\n",
    "    \"Hello, this is my frist Ramadan\",\n",
    "    \"I am learning how to code in python\",\n",
    "    \"I am going to build a book\",\n",
    "])\n",
    "\n",
    "book.export()"
   ]
  }
 ],
 "metadata": {
  "kernelspec": {
   "display_name": "Python 3.12",
   "language": "python",
   "name": "python3"
  },
  "language_info": {
   "codemirror_mode": {
    "name": "ipython",
    "version": 3
   },
   "file_extension": ".py",
   "mimetype": "text/x-python",
   "name": "python",
   "nbconvert_exporter": "python",
   "pygments_lexer": "ipython3",
   "version": "3.12.2"
  }
 },
 "nbformat": 4,
 "nbformat_minor": 5
}
