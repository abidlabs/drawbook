{
 "cells": [
  {
   "cell_type": "code",
   "execution_count": 1,
   "id": "6eb14615-5dc3-47a8-9a9b-40b28c56e1b3",
   "metadata": {},
   "outputs": [],
   "source": [
    "from drawbook import Book\n",
    "\n",
    "book = Book(title=\"My First Ramadan\", pages=[\n",
    "    \"Hello, this is my frist Ramadan\",\n",
    "    \"I am learning how to code in python\",\n",
    "    \"I am going to build a book\",\n",
    "])"
   ]
  },
  {
   "cell_type": "code",
   "execution_count": 2,
   "id": "2454051b-8549-43b1-bb47-f294b12a189c",
   "metadata": {},
   "outputs": [
    {
     "name": "stdout",
     "output_type": "stream",
     "text": [
      "Generating illustrations... This could take a few minutes.\n"
     ]
    },
    {
     "name": "stderr",
     "output_type": "stream",
     "text": [
      "100%|███████████████| 3/3 [00:02<00:00,  1.41it/s]"
     ]
    },
    {
     "name": "stdout",
     "output_type": "stream",
     "text": [
      "Illustrations saved to: /var/folders/kf/ll6fqkys7_s05x4tvb546mdc0000gn/T/tmp9eskeqwh\n"
     ]
    },
    {
     "name": "stderr",
     "output_type": "stream",
     "text": [
      "\n"
     ]
    }
   ],
   "source": [
    "book.illustrate()"
   ]
  },
  {
   "cell_type": "code",
   "execution_count": 3,
   "id": "5451dab6-9bee-484b-af77-4cdff546a2ed",
   "metadata": {},
   "outputs": [
    {
     "name": "stdout",
     "output_type": "stream",
     "text": [
      "Book exported to: /var/folders/kf/ll6fqkys7_s05x4tvb546mdc0000gn/T/tmpyu3u2o11.pptx\n"
     ]
    }
   ],
   "source": [
    "book.export()"
   ]
  }
 ],
 "metadata": {
  "kernelspec": {
   "display_name": "Python 3.12",
   "language": "python",
   "name": "python3"
  },
  "language_info": {
   "codemirror_mode": {
    "name": "ipython",
    "version": 3
   },
   "file_extension": ".py",
   "mimetype": "text/x-python",
   "name": "python",
   "nbconvert_exporter": "python",
   "pygments_lexer": "ipython3",
   "version": "3.12.2"
  }
 },
 "nbformat": 4,
 "nbformat_minor": 5
}
