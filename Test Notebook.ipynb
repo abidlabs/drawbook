{
 "cells": [
  {
   "cell_type": "code",
   "execution_count": 3,
   "id": "6eb14615-5dc3-47a8-9a9b-40b28c56e1b3",
   "metadata": {},
   "outputs": [],
   "source": [
    "# from drawbook import Book\n",
    "\n",
    "# book = Book(title=\"The Farmer's Gift\", pages=[\n",
    "#     \"Mustafa and Musa were two little boys who loved going to school with their friends.\",\n",
    "#     \"Next to their school was a farmhouse and the boys would often go to the farmhouse and see the chicken and goats and roses and sunflowers on the farm.\",\n",
    "#     \"There was a kind, old farmer who lived on the farm. He used to let Mustafa and Musa and their friends feed the animals and pick flowers from the farm.\",\n",
    "#     \"One day, he told the boys that he was getting too old to run the farm and he was going to give the farm to two special boys.\",\n",
    "#     \"All of the boys wanted the farm, so they asked the farmer who he would pick. The farmer gave each of the boys sunflower seeds and said, 'Plant the seeds and come back to me in 2 months to show me your sunflowers.'\",\n",
    "#     \"Mustafa and Musa hurried back home to show their babas the seeds. Their babas told them that all plants need three things: sunlight, water, and soil.\",\n",
    "#     \"So the boys planted their seeds in a big pot with fertile soil. They put the pot outside so it could get bright sunlight, and they watered their plant every day.\",\n",
    "#     \"But after 1 month, their plant had not grown at all! They came to their babas, who told them not to worry, and to keep trying hard.\",\n",
    "#     \"The day before they needed to go back to the farmer, their plant had not grown at all. The two boys were nearly in tears when they went to their babas.\",\n",
    "#     \"'What will we say to the farmer?' Mustafa and Musa asked. Their babas told them to tell the truth, and not be nervous or scared.\",\n",
    "#     \"The next day, Mustafa and Musa went to visit the farm. All their friends were there, and they all had tall, beautiful sunflowers in large pots.\",\n",
    "#     \"Mustafa and Musa gulped nervously when the farmer came to them. He asked, 'Where is your sunflower?'\",\n",
    "#     \"The boys told the farmer sadly, 'We tried our best to grow our sunflower, we gave it water, sunlight, and soil, but it didn't grow at all no matter what we did. That's the truth.'\",\n",
    "#     \"The farmer smiled, and announced loudly, 'I will give my farm to Mustafa and Musa!'\",\n",
    "#     \"The boys were shocked. 'Why? Our plant didn't even grow, sir.' The farmer responded softly, 'None of the plants grew. I gave you all boiled seeds, which means that they would never grow into sunflowers at all.'\",\n",
    "#     \"'All these other boys who have sunflowers, they must have gotten them from the store. Since you two boys told the truth, you will get the farm, the chickens, the goats, the roses, and yes -- even the sunflowers.'\",\n",
    "#     \"Mustafa and Musa were so happy, they said 'Alhamdulillah, we will always tell the truth' and they ran home to their babas to tell them the good news.\",\n",
    "# ], author=\"Abubakar Abid\")"
   ]
  },
  {
   "cell_type": "code",
   "execution_count": 4,
   "id": "2c882b0f",
   "metadata": {},
   "outputs": [],
   "source": [
    "# book.illustrate()"
   ]
  },
  {
   "cell_type": "code",
   "execution_count": 5,
   "id": "0bcaf6b1",
   "metadata": {},
   "outputs": [],
   "source": [
    "from drawbook import Book\n",
    "\n",
    "book = Book.load(\"/Users/abidlabs/dev/drawbook/book.json\")"
   ]
  },
  {
   "cell_type": "code",
   "execution_count": 6,
   "id": "b1b537d1",
   "metadata": {},
   "outputs": [],
   "source": [
    "# book.save()"
   ]
  },
  {
   "cell_type": "code",
   "execution_count": 7,
   "id": "3951ec6d",
   "metadata": {},
   "outputs": [
    {
     "name": "stdout",
     "output_type": "stream",
     "text": [
      "Creating preview...\n",
      "Warning: Could not add title illustration: [Errno 2] No such file or directory: '/private/var/folders/kf/ll6fqkys7_s05x4tvb546mdc0000gn/T/tmpl1azi8gc/title.png'\n",
      "Warning: Could not add illustration on page 1: [Errno 2] No such file or directory: '/private/var/folders/kf/ll6fqkys7_s05x4tvb546mdc0000gn/T/tmpl1azi8gc/page_1.png'\n",
      "Warning: Could not add illustration on page 2: [Errno 2] No such file or directory: '/private/var/folders/kf/ll6fqkys7_s05x4tvb546mdc0000gn/T/tmpl1azi8gc/page_2.png'\n",
      "Warning: Could not add illustration on page 3: [Errno 2] No such file or directory: '/private/var/folders/kf/ll6fqkys7_s05x4tvb546mdc0000gn/T/tmpl1azi8gc/page_3.png'\n",
      "Warning: Could not add illustration on page 4: [Errno 2] No such file or directory: '/private/var/folders/kf/ll6fqkys7_s05x4tvb546mdc0000gn/T/tmpl1azi8gc/page_4.png'\n",
      "Warning: Could not add illustration on page 5: [Errno 2] No such file or directory: '/private/var/folders/kf/ll6fqkys7_s05x4tvb546mdc0000gn/T/tmpl1azi8gc/page_5.png'\n",
      "Warning: Could not add illustration on page 6: [Errno 2] No such file or directory: '/private/var/folders/kf/ll6fqkys7_s05x4tvb546mdc0000gn/T/tmpl1azi8gc/page_6.png'\n",
      "Warning: Could not add illustration on page 7: [Errno 2] No such file or directory: '/private/var/folders/kf/ll6fqkys7_s05x4tvb546mdc0000gn/T/tmpl1azi8gc/page_7.png'\n",
      "Warning: Could not add illustration on page 8: [Errno 2] No such file or directory: '/private/var/folders/kf/ll6fqkys7_s05x4tvb546mdc0000gn/T/tmpl1azi8gc/page_8.png'\n",
      "Warning: Could not add illustration on page 9: [Errno 2] No such file or directory: '/private/var/folders/kf/ll6fqkys7_s05x4tvb546mdc0000gn/T/tmpl1azi8gc/page_9.png'\n",
      "Warning: Could not add illustration on page 10: [Errno 2] No such file or directory: '/private/var/folders/kf/ll6fqkys7_s05x4tvb546mdc0000gn/T/tmpl1azi8gc/page_10.png'\n",
      "Warning: Could not add illustration on page 11: [Errno 2] No such file or directory: '/private/var/folders/kf/ll6fqkys7_s05x4tvb546mdc0000gn/T/tmpl1azi8gc/page_11.png'\n",
      "Warning: Could not add illustration on page 12: [Errno 2] No such file or directory: '/private/var/folders/kf/ll6fqkys7_s05x4tvb546mdc0000gn/T/tmpl1azi8gc/page_12.png'\n",
      "Warning: Could not add illustration on page 13: [Errno 2] No such file or directory: '/private/var/folders/kf/ll6fqkys7_s05x4tvb546mdc0000gn/T/tmpl1azi8gc/page_13.png'\n",
      "Warning: Could not add illustration on page 14: [Errno 2] No such file or directory: '/private/var/folders/kf/ll6fqkys7_s05x4tvb546mdc0000gn/T/tmpl1azi8gc/page_14.png'\n",
      "Warning: Could not add illustration on page 15: [Errno 2] No such file or directory: '/private/var/folders/kf/ll6fqkys7_s05x4tvb546mdc0000gn/T/tmpl1azi8gc/page_15.png'\n",
      "Warning: Could not add illustration on page 16: [Errno 2] No such file or directory: '/private/var/folders/kf/ll6fqkys7_s05x4tvb546mdc0000gn/T/tmpl1azi8gc/page_16.png'\n",
      "Warning: Could not add illustration on page 17: [Errno 2] No such file or directory: '/private/var/folders/kf/ll6fqkys7_s05x4tvb546mdc0000gn/T/tmpl1azi8gc/page_17.png'\n",
      "* Running on local URL:  http://127.0.0.1:7861\n",
      "\n",
      "To create a public link, set `share=True` in `launch()`.\n"
     ]
    }
   ],
   "source": [
    "book.preview()\n",
    "\n"
   ]
  }
 ],
 "metadata": {
  "kernelspec": {
   "display_name": "Python 3.12",
   "language": "python",
   "name": "python3"
  },
  "language_info": {
   "codemirror_mode": {
    "name": "ipython",
    "version": 3
   },
   "file_extension": ".py",
   "mimetype": "text/x-python",
   "name": "python",
   "nbconvert_exporter": "python",
   "pygments_lexer": "ipython3",
   "version": "3.12.2"
  }
 },
 "nbformat": 4,
 "nbformat_minor": 5
}
