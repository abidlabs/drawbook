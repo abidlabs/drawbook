{
 "cells": [
  {
   "cell_type": "code",
   "execution_count": 1,
   "id": "6eb14615-5dc3-47a8-9a9b-40b28c56e1b3",
   "metadata": {},
   "outputs": [],
   "source": [
    "from drawbook import Book\n",
    "\n",
    "book = Book(title=\"Mustafa's Trip To Mars\", pages=[\n",
    "    \"Mustafa loves his silver cybertuck. One day, his cybertuck starts to glow, grow, and zoom up into the sky!\",\n",
    "    \"Up, up, up goes Mustafa in his special cybertuck. He waves bye-bye to his house as it gets tiny down below.\",\n",
    "    \"The stars look like tiny lights all around him. His cybertuck flies fast past the moon and the sun.\",\n",
    "], author=\"Abubakar Abid\")"
   ]
  },
  {
   "cell_type": "code",
   "execution_count": 2,
   "id": "2454051b-8549-43b1-bb47-f294b12a189c",
   "metadata": {},
   "outputs": [
    {
     "name": "stdout",
     "output_type": "stream",
     "text": [
      "Generating illustrations... This could take a few minutes.\n"
     ]
    },
    {
     "name": "stderr",
     "output_type": "stream",
     "text": [
      "Generating illustrations: 100%|█| 4/4 [00:07<00:00,  1"
     ]
    },
    {
     "name": "stdout",
     "output_type": "stream",
     "text": [
      "Illustrations saved to: /var/folders/kf/ll6fqkys7_s05x4tvb546mdc0000gn/T/tmpwh7_gdqc\n"
     ]
    },
    {
     "name": "stderr",
     "output_type": "stream",
     "text": [
      "\n"
     ]
    }
   ],
   "source": [
    "book.illustrate()"
   ]
  },
  {
   "cell_type": "code",
   "execution_count": 3,
   "id": "cf139285-110b-4bc2-85d8-0971d3ac4b82",
   "metadata": {},
   "outputs": [
    {
     "data": {
      "text/plain": [
       "['/var/folders/kf/ll6fqkys7_s05x4tvb546mdc0000gn/T/tmpwh7_gdqc/page_1.png',\n",
       " '/var/folders/kf/ll6fqkys7_s05x4tvb546mdc0000gn/T/tmpwh7_gdqc/page_2.png',\n",
       " '/var/folders/kf/ll6fqkys7_s05x4tvb546mdc0000gn/T/tmpwh7_gdqc/page_3.png']"
      ]
     },
     "execution_count": 3,
     "metadata": {},
     "output_type": "execute_result"
    }
   ],
   "source": [
    "book.illustrations"
   ]
  },
  {
   "cell_type": "code",
   "execution_count": 4,
   "id": "5451dab6-9bee-484b-af77-4cdff546a2ed",
   "metadata": {},
   "outputs": [
    {
     "name": "stdout",
     "output_type": "stream",
     "text": [
      "Book exported to: /Users/abidlabs/dev/drawbook/test.pptx\n"
     ]
    }
   ],
   "source": [
    "book.export(\"test.pptx\")"
   ]
  }
 ],
 "metadata": {
  "kernelspec": {
   "display_name": "Python 3.12",
   "language": "python",
   "name": "python3"
  },
  "language_info": {
   "codemirror_mode": {
    "name": "ipython",
    "version": 3
   },
   "file_extension": ".py",
   "mimetype": "text/x-python",
   "name": "python",
   "nbconvert_exporter": "python",
   "pygments_lexer": "ipython3",
   "version": "3.12.2"
  }
 },
 "nbformat": 4,
 "nbformat_minor": 5
}
