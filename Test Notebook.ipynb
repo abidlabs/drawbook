{
 "cells": [
  {
   "cell_type": "code",
   "execution_count": 1,
   "id": "6eb14615-5dc3-47a8-9a9b-40b28c56e1b3",
   "metadata": {},
   "outputs": [],
   "source": [
    "from drawbook import Book\n",
    "\n",
    "book = Book(title=\"Mustafa's Trip to Mars\", pages=[\n",
    "    \"Mustafa loves playing with his red toy truck. One day, his truck starts to glow, grow, and zoom up into the sky!\",\n",
    "    \"Up, up, up goes Mustafa in his special red toy truck. He waves bye-bye to his house as it gets tiny down below.\",\n",
    "    \"The stars look like tiny lights all around him. His red toy truck flies fast past the moon and the sun.\",\n",
    "], author=\"Abubakar Abid\")"
   ]
  },
  {
   "cell_type": "code",
   "execution_count": 2,
   "id": "5e280ad6",
   "metadata": {},
   "outputs": [],
   "source": [
    "book.title_illustration = '/var/folders/kf/ll6fqkys7_s05x4tvb546mdc0000gn/T/tmpzrjlis72/title.png'\n",
    "book.illustrations = ['/var/folders/kf/ll6fqkys7_s05x4tvb546mdc0000gn/T/tmpzrjlis72/page_1.png',\n",
    " '/var/folders/kf/ll6fqkys7_s05x4tvb546mdc0000gn/T/tmpzrjlis72/page_2.png',\n",
    " '/var/folders/kf/ll6fqkys7_s05x4tvb546mdc0000gn/T/tmpzrjlis72/page_3.png']"
   ]
  },
  {
   "cell_type": "code",
   "execution_count": 3,
   "id": "5451dab6-9bee-484b-af77-4cdff546a2ed",
   "metadata": {},
   "outputs": [
    {
     "name": "stdout",
     "output_type": "stream",
     "text": [
      "Book exported to: /Users/abidlabs/dev/drawbook/test.pptx\n"
     ]
    },
    {
     "data": {
      "text/plain": [
       "True"
      ]
     },
     "execution_count": 3,
     "metadata": {},
     "output_type": "execute_result"
    }
   ],
   "source": [
    "book.export(\"test.pptx\")\n",
    "import webbrowser\n",
    "webbrowser.open('file:///Users/abidlabs/dev/drawbook/test.pptx')"
   ]
  }
 ],
 "metadata": {
  "kernelspec": {
   "display_name": "Python 3.12",
   "language": "python",
   "name": "python3"
  },
  "language_info": {
   "codemirror_mode": {
    "name": "ipython",
    "version": 3
   },
   "file_extension": ".py",
   "mimetype": "text/x-python",
   "name": "python",
   "nbconvert_exporter": "python",
   "pygments_lexer": "ipython3",
   "version": "3.12.2"
  }
 },
 "nbformat": 4,
 "nbformat_minor": 5
}
