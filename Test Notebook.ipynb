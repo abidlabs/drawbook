{
 "cells": [
  {
   "cell_type": "code",
   "execution_count": 3,
   "id": "2f720805-e3da-4161-85a2-acded49788cf",
   "metadata": {},
   "outputs": [
    {
     "name": "stdout",
     "output_type": "stream",
     "text": [
      "Fetching model from: https://huggingface.co/SebastianBodza/Flux_Aquarell_Watercolor_v2\n",
      "* Running on local URL:  http://127.0.0.1:7860\n",
      "\n",
      "To create a public link, set `share=True` in `launch()`.\n"
     ]
    },
    {
     "data": {
      "text/html": [
       "<div><iframe src=\"http://127.0.0.1:7860/\" width=\"100%\" height=\"500\" allow=\"autoplay; camera; microphone; clipboard-read; clipboard-write;\" frameborder=\"0\" allowfullscreen></iframe></div>"
      ],
      "text/plain": [
       "<IPython.core.display.HTML object>"
      ]
     },
     "metadata": {},
     "output_type": "display_data"
    },
    {
     "data": {
      "text/plain": []
     },
     "execution_count": 3,
     "metadata": {},
     "output_type": "execute_result"
    }
   ],
   "source": [
    "import gradio as gr\n",
    "\n",
    "gr.load(\"SebastianBodza/Flux_Aquarell_Watercolor_v2\", src=\"models\").launch()"
   ]
  },
  {
   "cell_type": "code",
   "execution_count": 1,
   "id": "6eb14615-5dc3-47a8-9a9b-40b28c56e1b3",
   "metadata": {},
   "outputs": [
    {
     "name": "stdout",
     "output_type": "stream",
     "text": [
      "Book exported to: /Users/abidlabs/dev/drawbook/test.pptx\n"
     ]
    }
   ],
   "source": [
    "from drawbook import Book\n",
    "\n",
    "book = Book(title=\"My First Ramadan\", pages=[\n",
    "    \"Hello, this is my frist Ramadan\",\n",
    "    \"I am learning how to code in python\",\n",
    "    \"I am going to build a book\",\n",
    "])\n",
    "\n",
    "book.export(\"test.pptx\")"
   ]
  }
 ],
 "metadata": {
  "kernelspec": {
   "display_name": "Python 3.12",
   "language": "python",
   "name": "python3"
  },
  "language_info": {
   "codemirror_mode": {
    "name": "ipython",
    "version": 3
   },
   "file_extension": ".py",
   "mimetype": "text/x-python",
   "name": "python",
   "nbconvert_exporter": "python",
   "pygments_lexer": "ipython3",
   "version": "3.12.2"
  }
 },
 "nbformat": 4,
 "nbformat_minor": 5
}
