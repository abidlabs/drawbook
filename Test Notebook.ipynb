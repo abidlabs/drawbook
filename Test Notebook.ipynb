{
 "cells": [
  {
   "cell_type": "code",
   "execution_count": 2,
   "id": "6eb14615-5dc3-47a8-9a9b-40b28c56e1b3",
   "metadata": {},
   "outputs": [],
   "source": [
    "from drawbook import Book\n",
    "\n",
    "book = Book(title=\"Mustafa's Trip To Mars\", pages=[\n",
    "    \"Mustafa loves his silver cybertuck.\\nOne day, his truck starts to glow, grow, and zoom up into the sky!\",\n",
    "    \"Up, up, up goes Mustafa in his special truck.\\n He waves bye-bye to his house as it gets tiny down below.\",\n",
    "    \"The stars look like tiny lights all around him.\\n His truck flies fast past the moon and the sun.\",\n",
    "    \"Look! Mars is big and red like a giant ball.\\n Mustafa's truck lands softly on the red sand.\",\n",
    "    \"Mustafa drives his truck on Mars and sees two small moons in the sky.\\n \\\"This is fun!\\\" says Mustafa as he makes tracks in the red dirt.\",\n",
    "], author=\"Abubakar Abid\")"
   ]
  },
  {
   "cell_type": "code",
   "execution_count": null,
   "id": "2454051b-8549-43b1-bb47-f294b12a189c",
   "metadata": {},
   "outputs": [
    {
     "name": "stdout",
     "output_type": "stream",
     "text": [
      "Generating illustrations... This could take a few minutes.\n"
     ]
    },
    {
     "name": "stderr",
     "output_type": "stream",
     "text": [
      "Generating illustrations:  50%|▌| 3/6 [04:53<04:55, 98"
     ]
    }
   ],
   "source": [
    "book.illustrate()"
   ]
  },
  {
   "cell_type": "code",
   "execution_count": 3,
   "id": "5451dab6-9bee-484b-af77-4cdff546a2ed",
   "metadata": {},
   "outputs": [
    {
     "name": "stdout",
     "output_type": "stream",
     "text": [
      "Book exported to: /Users/abidlabs/dev/drawbook/test.pptx\n"
     ]
    }
   ],
   "source": [
    "book.export(\"test.pptx\")"
   ]
  }
 ],
 "metadata": {
  "kernelspec": {
   "display_name": "Python 3.12",
   "language": "python",
   "name": "python3"
  },
  "language_info": {
   "codemirror_mode": {
    "name": "ipython",
    "version": 3
   },
   "file_extension": ".py",
   "mimetype": "text/x-python",
   "name": "python",
   "nbconvert_exporter": "python",
   "pygments_lexer": "ipython3",
   "version": "3.12.2"
  }
 },
 "nbformat": 4,
 "nbformat_minor": 5
}
