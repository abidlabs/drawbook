{
 "cells": [
  {
   "cell_type": "code",
   "execution_count": null,
   "id": "6eb14615-5dc3-47a8-9a9b-40b28c56e1b3",
   "metadata": {},
   "outputs": [],
   "source": [
    "from drawbook import Book\n",
    "\n",
    "book = Book(title=\"My First Ramadan\", pages=[\n",
    "    \"Hello, this is my frist Ramadan\",\n",
    "    \"I am learning how to code in python\",\n",
    "    \"I am going to build a book\",\n",
    "])\n",
    "\n",
    "book.export()"
   ]
  }
 ],
 "metadata": {
  "kernelspec": {
   "display_name": "Python 3.12",
   "language": "python",
   "name": "python3"
  },
  "language_info": {
   "codemirror_mode": {
    "name": "ipython",
    "version": 3
   },
   "file_extension": ".py",
   "mimetype": "text/x-python",
   "name": "python",
   "nbconvert_exporter": "python",
   "pygments_lexer": "ipython3",
   "version": "3.12.2"
  }
 },
 "nbformat": 4,
 "nbformat_minor": 5
}
